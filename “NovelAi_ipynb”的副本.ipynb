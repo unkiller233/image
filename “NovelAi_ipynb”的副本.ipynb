{
  "nbformat": 4,
  "nbformat_minor": 0,
  "metadata": {
    "colab": {
      "provenance": [],
      "toc_visible": true,
      "collapsed_sections": [],
      "include_colab_link": true
    },
    "kernelspec": {
      "name": "python3",
      "display_name": "Python 3"
    },
    "language_info": {
      "name": "python"
    },
    "accelerator": "GPU"
  },
  "cells": [
    {
      "cell_type": "markdown",
      "metadata": {
        "id": "view-in-github",
        "colab_type": "text"
      },
      "source": [
        "<a href=\"https://colab.research.google.com/github/unkiller233/image/blob/main/%E2%80%9CNovelAi_ipynb%E2%80%9D%E7%9A%84%E5%89%AF%E6%9C%AC.ipynb\" target=\"_parent\"><img src=\"https://colab.research.google.com/assets/colab-badge.svg\" alt=\"Open In Colab\"/></a>"
      ]
    },
    {
      "cell_type": "markdown",
      "source": [
        "# [NovelAi](https://novelai.net/)\n",
        "\n",
        "[Colter](https://github.com/Colter23)\n",
        "\n",
        "本地搭建教程 https://mirai.mamoe.net/topic/1659\n",
        "\n",
        "此笔记本参考了 https://github.com/AUTOMATIC1111/stable-diffusion-webui 中给出的笔记本\n",
        "\n",
        " **请一步一步运行代码，运行完一步后再运行后面的步骤**\n",
        "\n",
        "**请先打开COLAB的GPU支持**      \n",
        "上方任务栏 `代码执行程序` -> `更改运行时类型` -> `硬件加速器选择 GPU`"
      ],
      "metadata": {
        "id": "CujBAhgjhmDk"
      }
    },
    {
      "cell_type": "code",
      "execution_count": null,
      "metadata": {
        "id": "PJqbFs1zdo6Z"
      },
      "outputs": [],
      "source": [
        "#@markdown 会导致colab崩溃，不用管 （必要）\n",
        "import os\n",
        "os.kill(os.getpid(), 9) # 必要，报错很正常"
      ]
    },
    {
      "cell_type": "markdown",
      "source": [
        "# 1. 下载 stable-diffusion-webui"
      ],
      "metadata": {
        "id": "E5vzS1V7fHn9"
      }
    },
    {
      "cell_type": "code",
      "source": [
        "!git clone https://github.com/AUTOMATIC1111/stable-diffusion-webui\n",
        "%cd stable-diffusion-webui\n",
        "!git pull"
      ],
      "metadata": {
        "id": "8usKAW2NefY2",
        "colab": {
          "base_uri": "https://localhost:8080/"
        },
        "outputId": "4f4159c0-5fbe-4217-b74b-18983edccf96"
      },
      "execution_count": 2,
      "outputs": [
        {
          "output_type": "stream",
          "name": "stdout",
          "text": [
            "Cloning into 'stable-diffusion-webui'...\n",
            "remote: Enumerating objects: 5647, done.\u001b[K\n",
            "remote: Counting objects: 100% (15/15), done.\u001b[K\n",
            "remote: Compressing objects: 100% (12/12), done.\u001b[K\n",
            "remote: Total 5647 (delta 3), reused 8 (delta 3), pack-reused 5632\u001b[K\n",
            "Receiving objects: 100% (5647/5647), 21.01 MiB | 17.35 MiB/s, done.\n",
            "Resolving deltas: 100% (3954/3954), done.\n",
            "/content/stable-diffusion-webui/stable-diffusion-webui\n",
            "Already up to date.\n"
          ]
        }
      ]
    },
    {
      "cell_type": "markdown",
      "source": [
        "# 2. 下载资源"
      ],
      "metadata": {
        "id": "-w2HYx8nfdw8"
      }
    },
    {
      "cell_type": "code",
      "source": [
        "#@title 挂载云盘\n",
        "#@markdown 同意请求。确保云盘有5G的剩余空间\n",
        "from google.colab import drive\n",
        "drive.mount( \"/content/drive/\")"
      ],
      "metadata": {
        "id": "gBMviliyzd1G",
        "colab": {
          "base_uri": "https://localhost:8080/"
        },
        "outputId": "6b5ecbcb-5a44-491b-ff25-104859a15d15"
      },
      "execution_count": 3,
      "outputs": [
        {
          "output_type": "stream",
          "name": "stdout",
          "text": [
            "Mounted at /content/drive/\n"
          ]
        }
      ]
    },
    {
      "cell_type": "code",
      "source": [
        "#@title 下载模型 (小模型) 模型链接又炸了\n",
        "#@markdown **请自行下载小模型，并上传到google云盘** 将模型放置到云盘的 `NovelAI` 目录下，并改名为 `animefull-final-pruned.ckpt`。免费版的colab只能加载得动小模型，效果也不错\n",
        "#@markdown <br> 【磁链】magnet:?xt=urn:btih:5bde442da86265b670a3e5ea3163afad2c6f8ecc\n",
        "#@markdown <br> [【小模型 GoogleDrive】](https://drive.google.com/file/d/1NaJcM3ba7gUG4cDUtHJSLalcDsAUVLRr/view?usp=sharing)\n",
        "#@markdown <br> [【小模型 OneDrive】](https://1drv.ms/u/s!Aj0eXAYia5WNjdIHWbXojC5sAJp3Ow?e=BXR6Ne)\n",
        "#@markdown <br> [【大模型 GoogleDrive】](https://drive.google.com/file/d/1e5Wu3ahBvYbhl4DfQN6h7q_UDZdC6y3t/view?usp=sharing)\n",
        "%cd /content/drive/MyDrive\n",
        "\n",
        "from google.colab import files\n",
        "import os\n",
        "\n",
        "if not os.path.exists('NovelAi/animefull-final-pruned.ckpt'):\n",
        "  !mkdir NovelAi\n",
        "  %cd NovelAi\n",
        "  print(\"开始下载模型...\")\n",
        "  # !gdown \"1NaJcM3ba7gUG4cDUtHJSLalcDsAUVLRr\" # google云盘的文件下载次数过多被限制了\n",
        "  !wget https://plastic-global-sundial.glitch.me/animefull-final-pruned.ckpt # onedrive文件也寄了\n",
        "\n",
        "!cp /content/drive/MyDrive/NovelAi/animefull-final-pruned.ckpt /content/stable-diffusion-webui/models/Stable-diffusion/"
      ],
      "metadata": {
        "id": "mEvcDwRpJfxM",
        "colab": {
          "base_uri": "https://localhost:8080/"
        },
        "outputId": "d117002a-605d-43d8-f16e-eaee8ab69179"
      },
      "execution_count": 4,
      "outputs": [
        {
          "output_type": "stream",
          "name": "stdout",
          "text": [
            "/content/drive/MyDrive\n"
          ]
        }
      ]
    },
    {
      "cell_type": "code",
      "source": [
        "#@title 下载资源 (可选) \n",
        "#@markdown 可能会使图片质量更高\n",
        "#@markdown <br> [【hypernetworks GoogleDrive】](https://drive.google.com/file/d/1mYRDVMJdyd1iH1cooUQeKUUAAdXA61Hn/view?usp=sharing)\n",
        "#@markdown <br> [【hypernetworks OneDrive】](https://1drv.ms/u/s!Aj0eXAYia5WNjdIIcSL-BiUAQMNm6w?e=Guebb9)\n",
        "%cd /content/drive/MyDrive\n",
        "\n",
        "from google.colab import files\n",
        "import os\n",
        "\n",
        "if not os.path.exists('NovelAi/hypernetworks.zip'):\n",
        "  !mkdir NovelAi\n",
        "  %cd NovelAi\n",
        "  print(\"开始下载资源...\")\n",
        "  # !gdown \"1mYRDVMJdyd1iH1cooUQeKUUAAdXA61Hn\"\n",
        "  !wget https://plastic-global-sundial.glitch.me/hypernetworks.zip\n",
        "\n",
        "!cp /content/drive/MyDrive/NovelAi/hypernetworks.zip /content/stable-diffusion-webui/models/\n",
        "%cd /content/stable-diffusion-webui/models\n",
        "!unzip hypernetworks.zip -d hypernetworks"
      ],
      "metadata": {
        "id": "2gPX0daQfvED",
        "colab": {
          "base_uri": "https://localhost:8080/"
        },
        "outputId": "5da0d125-5d63-4a3e-8659-f9ac9c50d770"
      },
      "execution_count": 5,
      "outputs": [
        {
          "output_type": "stream",
          "name": "stdout",
          "text": [
            "/content/drive/MyDrive\n",
            "mkdir: cannot create directory ‘NovelAi’: File exists\n",
            "/content/drive/MyDrive/NovelAi\n",
            "开始下载资源...\n",
            "--2022-10-11 16:29:26--  https://plastic-global-sundial.glitch.me/hypernetworks.zip\n",
            "Resolving plastic-global-sundial.glitch.me (plastic-global-sundial.glitch.me)... 54.88.54.207, 18.233.131.46, 75.101.229.39, ...\n",
            "Connecting to plastic-global-sundial.glitch.me (plastic-global-sundial.glitch.me)|54.88.54.207|:443... connected.\n",
            "HTTP request sent, awaiting response... 302 Found\n",
            "Location: https://public.bn.files.1drv.com/y4mxBp2c-QBlPTOa2wWYaW9fyRNNxetjCq3i-r7DOJJnmkrwGDpG2ELmCQBG086Hhnj8_Tf5JPuBYaelLxF6YA4jFOvAVLtlLxxqdkiooVP_bK8ebgOCsk3RGlyD1Yq87RJ_UCkJ_6AYgXk-q-q7fewAvFMaQmUmnoKvulvLAA6wCh79rwVStV-XIQak_4c9DXnDODwvakcWNrDzvab1hsYboz6K3-Qvtkk5bFMFuI86A_J0BTkE9BgOsPy8E-PXkh6 [following]\n",
            "--2022-10-11 16:29:27--  https://public.bn.files.1drv.com/y4mxBp2c-QBlPTOa2wWYaW9fyRNNxetjCq3i-r7DOJJnmkrwGDpG2ELmCQBG086Hhnj8_Tf5JPuBYaelLxF6YA4jFOvAVLtlLxxqdkiooVP_bK8ebgOCsk3RGlyD1Yq87RJ_UCkJ_6AYgXk-q-q7fewAvFMaQmUmnoKvulvLAA6wCh79rwVStV-XIQak_4c9DXnDODwvakcWNrDzvab1hsYboz6K3-Qvtkk5bFMFuI86A_J0BTkE9BgOsPy8E-PXkh6\n",
            "Resolving public.bn.files.1drv.com (public.bn.files.1drv.com)... 13.107.42.12\n",
            "Connecting to public.bn.files.1drv.com (public.bn.files.1drv.com)|13.107.42.12|:443... connected.\n",
            "HTTP request sent, awaiting response... 429 Too Many Requests\n",
            "2022-10-11 16:29:27 ERROR 429: Too Many Requests.\n",
            "\n",
            "cp: cannot stat '/content/drive/MyDrive/NovelAi/hypernetworks.zip': No such file or directory\n",
            "/content/stable-diffusion-webui/models\n",
            "unzip:  cannot find or open hypernetworks.zip, hypernetworks.zip.zip or hypernetworks.zip.ZIP.\n"
          ]
        }
      ]
    },
    {
      "cell_type": "markdown",
      "source": [
        "# 3. 安装依赖"
      ],
      "metadata": {
        "id": "xTiY5p-rfvbp"
      }
    },
    {
      "cell_type": "code",
      "source": [
        "#@title 安装依赖\n",
        "%cd /content/stable-diffusion-webui\n",
        "!COMMANDLINE_ARGS=\"--exit\" REQS_FILE=\"requirements.txt\" python launch.py"
      ],
      "metadata": {
        "id": "YTUP0iZBf14p",
        "colab": {
          "base_uri": "https://localhost:8080/"
        },
        "outputId": "abca9063-ae33-4165-cd2e-67cb407ab15d"
      },
      "execution_count": 6,
      "outputs": [
        {
          "output_type": "stream",
          "name": "stdout",
          "text": [
            "/content/stable-diffusion-webui\n",
            "Python 3.7.14 (default, Sep  8 2022, 00:06:44) \n",
            "[GCC 7.5.0]\n",
            "Commit hash: 6a9ea5b41cf92cd9e980349bb5034439f4e7a58b\n",
            "Installing gfpgan\n",
            "Installing clip\n",
            "Cloning Stable Diffusion into repositories/stable-diffusion...\n",
            "Cloning Taming Transformers into repositories/taming-transformers...\n",
            "Cloning K-diffusion into repositories/k-diffusion...\n",
            "Cloning CodeFormer into repositories/CodeFormer...\n",
            "Cloning BLIP into repositories/BLIP...\n",
            "Installing requirements for CodeFormer\n",
            "Installing requirements for Web UI\n",
            "Exiting because of --exit argument\n"
          ]
        }
      ]
    },
    {
      "cell_type": "code",
      "source": [
        "#@title 更换模型配置文件\n",
        "#@markdown 使用的是小模型的配置文件\n",
        "%cd /content/stable-diffusion-webui/repositories/stable-diffusion/configs/stable-diffusion\n",
        "!mv v1-inference.yaml v1-inference-or.yaml\n",
        "!gdown \"1HwkqvjMiP4bjcPFcaPL9thxaV9G3JV_J\" --output v1-inference.yaml"
      ],
      "metadata": {
        "id": "GZieUDhHExJb",
        "colab": {
          "base_uri": "https://localhost:8080/"
        },
        "outputId": "32bcbd7f-80ab-4822-d45e-3f688cb1bd2b"
      },
      "execution_count": 7,
      "outputs": [
        {
          "output_type": "stream",
          "name": "stdout",
          "text": [
            "/content/stable-diffusion-webui/repositories/stable-diffusion/configs/stable-diffusion\n",
            "Downloading...\n",
            "From: https://drive.google.com/uc?id=1HwkqvjMiP4bjcPFcaPL9thxaV9G3JV_J\n",
            "To: /content/stable-diffusion-webui/repositories/stable-diffusion/configs/stable-diffusion/v1-inference.yaml\n",
            "100% 1.87k/1.87k [00:00<00:00, 3.03MB/s]\n"
          ]
        }
      ]
    },
    {
      "cell_type": "markdown",
      "source": [
        "# 4. 运行\n",
        "\n",
        "命令行参数:\n",
        "- `--share`: 创建在线应用\n",
        "- `--gradio-debug` : 在控制台打印输出\n",
        "- `--gradio-auth user:password` : (可选) 登录认证, 用户名:密码 (自己改"
      ],
      "metadata": {
        "id": "fDT_171ygYNl"
      }
    },
    {
      "cell_type": "code",
      "source": [
        "%cd /content/stable-diffusion-webui\n",
        "!COMMANDLINE_ARGS=\"--share --gradio-debug\" REQS_FILE=\"requirements.txt\" python launch.py"
      ],
      "metadata": {
        "id": "x8faW6mogacT",
        "colab": {
          "base_uri": "https://localhost:8080/"
        },
        "outputId": "508754f4-1af1-4d66-f0cb-d4b9c45be534"
      },
      "execution_count": 1,
      "outputs": [
        {
          "output_type": "stream",
          "name": "stdout",
          "text": [
            "[Errno 2] No such file or directory: '/content/stable-diffusion-webui'\n",
            "/content\n",
            "python3: can't open file 'launch.py': [Errno 2] No such file or directory\n"
          ]
        }
      ]
    },
    {
      "cell_type": "markdown",
      "source": [
        "成功后会出现 Running on public URL: xxx ，访问即可"
      ],
      "metadata": {
        "id": "cLAEDWpzhvK5"
      }
    },
    {
      "cell_type": "markdown",
      "source": [
        "# 保存图片到云盘"
      ],
      "metadata": {
        "id": "HPESKmM9GGgK"
      }
    },
    {
      "cell_type": "code",
      "source": [
        "!cp -r /content/stable-diffusion-webui/outputs /content/drive/MyDrive/NovelAi/"
      ],
      "metadata": {
        "id": "ibPjVqkaGKf_"
      },
      "execution_count": null,
      "outputs": []
    }
  ]
}